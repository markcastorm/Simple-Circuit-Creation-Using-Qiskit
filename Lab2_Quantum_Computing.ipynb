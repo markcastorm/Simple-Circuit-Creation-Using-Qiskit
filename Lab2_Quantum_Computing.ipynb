{
  "nbformat": 4,
  "nbformat_minor": 0,
  "metadata": {
    "colab": {
      "provenance": [],
      "authorship_tag": "ABX9TyMtkvxuP5tlrvWzkniBMQMA",
      "include_colab_link": true
    },
    "kernelspec": {
      "name": "python3",
      "display_name": "Python 3"
    },
    "language_info": {
      "name": "python"
    }
  },
  "cells": [
    {
      "cell_type": "markdown",
      "metadata": {
        "id": "view-in-github",
        "colab_type": "text"
      },
      "source": [
        "<a href=\"https://colab.research.google.com/github/markcastorm/Simple-Circuit-Creation-Using-Qiskit/blob/main/Lab2_Quantum_Computing.ipynb\" target=\"_parent\"><img src=\"https://colab.research.google.com/assets/colab-badge.svg\" alt=\"Open In Colab\"/></a>"
      ]
    },
    {
      "cell_type": "code",
      "execution_count": null,
      "metadata": {
        "colab": {
          "base_uri": "https://localhost:8080/"
        },
        "id": "CGXr3wwp8lQr",
        "outputId": "1c9aed06-1f9d-493b-ac29-afe44ae17699"
      },
      "outputs": [
        {
          "output_type": "stream",
          "name": "stdout",
          "text": [
            "Requirement already satisfied: qiskit in /usr/local/lib/python3.10/dist-packages (0.44.1)\n",
            "Requirement already satisfied: qiskit-terra==0.25.1 in /usr/local/lib/python3.10/dist-packages (from qiskit) (0.25.1)\n",
            "Requirement already satisfied: rustworkx>=0.13.0 in /usr/local/lib/python3.10/dist-packages (from qiskit-terra==0.25.1->qiskit) (0.13.1)\n",
            "Requirement already satisfied: numpy>=1.17 in /usr/local/lib/python3.10/dist-packages (from qiskit-terra==0.25.1->qiskit) (1.23.5)\n",
            "Requirement already satisfied: ply>=3.10 in /usr/local/lib/python3.10/dist-packages (from qiskit-terra==0.25.1->qiskit) (3.11)\n",
            "Requirement already satisfied: psutil>=5 in /usr/local/lib/python3.10/dist-packages (from qiskit-terra==0.25.1->qiskit) (5.9.5)\n",
            "Requirement already satisfied: scipy>=1.5 in /usr/local/lib/python3.10/dist-packages (from qiskit-terra==0.25.1->qiskit) (1.10.1)\n",
            "Requirement already satisfied: sympy>=1.3 in /usr/local/lib/python3.10/dist-packages (from qiskit-terra==0.25.1->qiskit) (1.12)\n",
            "Requirement already satisfied: dill>=0.3 in /usr/local/lib/python3.10/dist-packages (from qiskit-terra==0.25.1->qiskit) (0.3.7)\n",
            "Requirement already satisfied: python-dateutil>=2.8.0 in /usr/local/lib/python3.10/dist-packages (from qiskit-terra==0.25.1->qiskit) (2.8.2)\n",
            "Requirement already satisfied: stevedore>=3.0.0 in /usr/local/lib/python3.10/dist-packages (from qiskit-terra==0.25.1->qiskit) (5.1.0)\n",
            "Requirement already satisfied: symengine<0.10,>=0.9 in /usr/local/lib/python3.10/dist-packages (from qiskit-terra==0.25.1->qiskit) (0.9.2)\n",
            "Requirement already satisfied: typing-extensions in /usr/local/lib/python3.10/dist-packages (from qiskit-terra==0.25.1->qiskit) (4.7.1)\n",
            "Requirement already satisfied: six>=1.5 in /usr/local/lib/python3.10/dist-packages (from python-dateutil>=2.8.0->qiskit-terra==0.25.1->qiskit) (1.16.0)\n",
            "Requirement already satisfied: pbr!=2.1.0,>=2.0.0 in /usr/local/lib/python3.10/dist-packages (from stevedore>=3.0.0->qiskit-terra==0.25.1->qiskit) (5.11.1)\n",
            "Requirement already satisfied: mpmath>=0.19 in /usr/local/lib/python3.10/dist-packages (from sympy>=1.3->qiskit-terra==0.25.1->qiskit) (1.3.0)\n"
          ]
        }
      ],
      "source": [
        "!pip install qiskit"
      ]
    },
    {
      "cell_type": "code",
      "source": [
        "import qiskit"
      ],
      "metadata": {
        "id": "DJQvCLmG8wPv"
      },
      "execution_count": null,
      "outputs": []
    },
    {
      "cell_type": "markdown",
      "source": [
        "Circuit Creation"
      ],
      "metadata": {
        "id": "_dGyvgkC84r8"
      }
    },
    {
      "cell_type": "code",
      "source": [
        "#Allocate 3 Qubits quantum Register\n",
        "qrex = qiskit.QuantumRegister(3)\n",
        "crex = qiskit.ClassicalRegister(3)\n",
        "#create a Quantum Circut that has 1 3- Qubit QuantumRegister and 1 3-Bit Classical Registe\n",
        "qcex = qiskit.QuantumCircuit(qrex,crex)"
      ],
      "metadata": {
        "id": "8spS66K2816t"
      },
      "execution_count": null,
      "outputs": []
    },
    {
      "cell_type": "markdown",
      "source": [
        "Gates"
      ],
      "metadata": {
        "id": "cSoa15ft9_ER"
      }
    },
    {
      "cell_type": "code",
      "source": [
        "!pip install pylatexenc"
      ],
      "metadata": {
        "colab": {
          "base_uri": "https://localhost:8080/"
        },
        "id": "VPyd2Fvha0GE",
        "outputId": "ea262587-059b-4aed-9dda-6848b84d3e02"
      },
      "execution_count": null,
      "outputs": [
        {
          "output_type": "stream",
          "name": "stdout",
          "text": [
            "Requirement already satisfied: pylatexenc in /usr/local/lib/python3.10/dist-packages (2.10)\n"
          ]
        }
      ]
    },
    {
      "cell_type": "code",
      "source": [
        "qcex.x(qrex[0]) # Apply an X gate to the first qubit.\n",
        "qcex.z(qrex[1]) # Apply a Z gate to the second qubit.\n",
        "qcex.h(qrex[2]) # Apply an H gate to the third qubit.\n",
        "qcex.cx(qrex[0], qrex[1]) # Apply a CNOT gate where the control is the first qubit and the target is the second.\n",
        "qcex.cx(qrex[1], qrex[0]) # Apply a CNOT gate where the control is the second qubit and the target is the first.\n",
        "qcex.swap(qrex[1], qrex[2]) # Apply a SWAP gate between the second and third qubits.  Order does not matter.\n",
        "\n",
        "qcex.measure(qrex, crex) # Applies a measurement gate across all the qubits to classical registers\n",
        "\n",
        "# To look at the circuit, use .draw(), this will generate a string that you\n",
        "# can use to look at the construction.\n",
        "qcex.draw('mpl')\n"
      ],
      "metadata": {
        "colab": {
          "base_uri": "https://localhost:8080/",
          "height": 320
        },
        "id": "wynaErWT9-m5",
        "outputId": "1f671b64-8a42-49f9-a327-c17310d20739"
      },
      "execution_count": null,
      "outputs": [
        {
          "output_type": "execute_result",
          "data": {
            "text/plain": [
              "<Figure size 723.581x367.889 with 1 Axes>"
            ],
            "image/png": "[encoded data removed]"
          },
          "metadata": {},
          "execution_count": 5
        }
      ]
    },
    {
      "cell_type": "markdown",
      "metadata": {
        "id": "L_A2HUTq8wnJ"
      },
      "source": [
        "Recreate the following circuit in Qiskit. Don't worry about spacing, just get the gates in the right order.\n",
        "```\n",
        "                ┌───┐\n",
        "q0_0: ──■───────┤ H ├──X───────\n",
        "      ┌─┴─┐┌───┐└───┘  |  ┌───┐\n",
        "q0_1: ┤ X ├┤ X ├───────|──┤ X ├\n",
        "      └───┘└─┬─┘┌───┐  |  └───┘\n",
        "q0_2: ───────■──┤ Z ├──X───────\n",
        "                └───┘\n",
        "\n",
        "```"
      ]
    },
    {
      "cell_type": "code",
      "source": [
        "qrpre = qiskit.QuantumRegister(4)\n",
        "qcpre = qiskit.QuantumCircuit(qrpre)"
      ],
      "metadata": {
        "id": "PvaF0T1jdPGd"
      },
      "execution_count": null,
      "outputs": []
    },
    {
      "cell_type": "code",
      "source": [
        "qcpre.cx(qrpre[0], qrpre[1])\n",
        "qcpre.cx(qrpre[2], qrpre[1])\n",
        "qcpre.h(qrpre[0])\n",
        "qcpre.z(qrpre[2])\n",
        "qcpre.swap(qrpre[0], qrpre[2])\n",
        "\n",
        "qcpre.x(qrpre[1])\n",
        "\n",
        "\n",
        "qcpre.draw('mpl')"
      ],
      "metadata": {
        "colab": {
          "base_uri": "https://localhost:8080/",
          "height": 320
        },
        "id": "X_upW17lfHVr",
        "outputId": "1a8b6a1f-4e84-454e-d619-43c576177fe3"
      },
      "execution_count": null,
      "outputs": [
        {
          "output_type": "execute_result",
          "data": {
            "text/plain": [
              "<Figure size 472.949x367.889 with 1 Axes>"
            ],
            "image/png": "[encoded data removed]"
          },
          "metadata": {},
          "execution_count": 7
        }
      ]
    }
  ]
}